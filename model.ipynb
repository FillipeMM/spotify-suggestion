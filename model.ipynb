{
 "cells": [
  {
   "cell_type": "code",
   "execution_count": 65,
   "metadata": {},
   "outputs": [
    {
     "data": {
      "text/plain": [
       "True"
      ]
     },
     "execution_count": 65,
     "metadata": {},
     "output_type": "execute_result"
    }
   ],
   "source": [
    "import pandas as pd\n",
    "import json\n",
    "import copy\n",
    "import csv\n",
    "import requests\n",
    "import os\n",
    "from dotenv import load_dotenv\n",
    "\n",
    "load_dotenv()"
   ]
  },
  {
   "cell_type": "code",
   "execution_count": 66,
   "metadata": {},
   "outputs": [],
   "source": [
    "music_items= []\n",
    "final_list = []\n",
    "# Get the value of 'HOME'\n",
    "# environment variable\n",
    "env_key = 'BEARER_TOKEN'\n",
    "token = os.getenv(env_key)\n"
   ]
  },
  {
   "cell_type": "code",
   "execution_count": 67,
   "metadata": {},
   "outputs": [],
   "source": [
    "def generate():\n",
    "    with open('rap-playlist.json', 'r') as json_file:\n",
    "        json_data = json.load(json_file)\n",
    "        music_items = json_data[\"items\"].copy()\n",
    "        # print(music_items[0])\n",
    "\n",
    "        for item in music_items:\n",
    "            final_list.append([\n",
    "                item[\"track\"][\"id\"], \n",
    "                item[\"track\"][\"artists\"][0][\"name\"],\n",
    "                item[\"track\"][\"name\"]\n",
    "                \n",
    "                ])"
   ]
  },
  {
   "cell_type": "code",
   "execution_count": 68,
   "metadata": {},
   "outputs": [],
   "source": [
    "def create():\n",
    "    with open(\"custom_playlist.csv\", \"w\", newline=\"\", encoding=\"UTF8\") as csv_file:\n",
    "            # create the csv writer\n",
    "            writer = csv.writer(csv_file)\n",
    "            writer.writerow([\"track_id\", \"artist\", \"music\"])\n",
    "            # write a row to the csv file\n",
    "            for music in final_list :\n",
    "                writer.writerow(music)"
   ]
  },
  {
   "cell_type": "code",
   "execution_count": 69,
   "metadata": {},
   "outputs": [],
   "source": [
    "def get_track_ids():\n",
    "    music_ids = ''\n",
    "    for id in final_list:\n",
    "        music_ids += ''+id[0]+','\n",
    "\n",
    "    return music_ids"
   ]
  },
  {
   "cell_type": "code",
   "execution_count": 70,
   "metadata": {},
   "outputs": [],
   "source": [
    "def get_audio_tracks_specs():\n",
    "    auth_token=token\n",
    "    hed = {'Authorization': 'Bearer ' + auth_token}\n",
    "    data = {\"ids\" : get_track_ids()}\n",
    "\n",
    "    url = 'https://api.spotify.com/v1/audio-features'\n",
    "    response = requests.get(url, params=data, headers=hed)\n",
    "    # print(response.json())\n",
    "    return response.json()"
   ]
  },
  {
   "cell_type": "code",
   "execution_count": 71,
   "metadata": {},
   "outputs": [],
   "source": [
    "def update_dataset():\n",
    "\n",
    "    specs_dict = {\"danceability\", \"energy\", \"loudness\", \"speechiness\", \"acousticness\", \"instrumentalness\", \"liveness\", \"duration_ms\"}\n",
    "\n",
    "    music_specs = get_audio_tracks_specs()['audio_features']\n",
    "    with open(\"music_playlist.csv\", \"w\", newline='', encoding=\"UTF8\") as csv_file:\n",
    "            # create the csv writer\n",
    "            writer = csv.writer(csv_file)\n",
    "            writer.writerow([\"track_id\", \"artist\", \"music\", \"danceability\", \"energy\", \"loudness\", \"speechiness\", \"acousticness\", \"instrumentalness\", \"liveness\", \"duration_ms\"])\n",
    "            # write a row to the csv file\n",
    "            for index, music in enumerate(final_list) :\n",
    "                new_music = music.copy()\n",
    "                new_specs = [music_specs[index][val] for val in music_specs[index].keys() if val in specs_dict]\n",
    "                new_music += new_specs\n",
    "                writer.writerow(new_music)"
   ]
  },
  {
   "cell_type": "code",
   "execution_count": 72,
   "metadata": {},
   "outputs": [],
   "source": [
    "generate()\n",
    "create()\n",
    "update_dataset()"
   ]
  },
  {
   "cell_type": "code",
   "execution_count": 73,
   "metadata": {},
   "outputs": [
    {
     "name": "stdout",
     "output_type": "stream",
     "text": [
      "<class 'pandas.core.frame.DataFrame'>\n",
      "RangeIndex: 59 entries, 0 to 58\n",
      "Data columns (total 11 columns):\n",
      " #   Column            Non-Null Count  Dtype  \n",
      "---  ------            --------------  -----  \n",
      " 0   track_id          59 non-null     object \n",
      " 1   artist            59 non-null     object \n",
      " 2   music             59 non-null     object \n",
      " 3   danceability      59 non-null     float64\n",
      " 4   energy            59 non-null     float64\n",
      " 5   loudness          59 non-null     float64\n",
      " 6   speechiness       59 non-null     float64\n",
      " 7   acousticness      59 non-null     float64\n",
      " 8   instrumentalness  59 non-null     float64\n",
      " 9   liveness          59 non-null     float64\n",
      " 10  duration_ms       59 non-null     int64  \n",
      "dtypes: float64(7), int64(1), object(3)\n",
      "memory usage: 5.2+ KB\n"
     ]
    }
   ],
   "source": [
    "dataset =pd.read_csv(\"music_playlist.csv\")\n",
    "\n",
    "\n",
    "dataset.info();\n"
   ]
  }
 ],
 "metadata": {
  "interpreter": {
   "hash": "85a48d885bab446268c8720320d909e3757cc8c2975b37d786b775c046c28a49"
  },
  "kernelspec": {
   "display_name": "Python 3.8.5 ('base')",
   "language": "python",
   "name": "python3"
  },
  "language_info": {
   "codemirror_mode": {
    "name": "ipython",
    "version": 3
   },
   "file_extension": ".py",
   "mimetype": "text/x-python",
   "name": "python",
   "nbconvert_exporter": "python",
   "pygments_lexer": "ipython3",
   "version": "3.8.5"
  },
  "orig_nbformat": 4
 },
 "nbformat": 4,
 "nbformat_minor": 2
}
